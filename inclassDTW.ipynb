{
  "nbformat": 4,
  "nbformat_minor": 0,
  "metadata": {
    "colab": {
      "name": "inclassDTW.ipynb",
      "provenance": [],
      "authorship_tag": "ABX9TyOvPQwc9IWlBJHvEaSBP7Vo",
      "include_colab_link": true
    },
    "kernelspec": {
      "name": "python3",
      "display_name": "Python 3"
    },
    "language_info": {
      "name": "python"
    }
  },
  "cells": [
    {
      "cell_type": "markdown",
      "metadata": {
        "id": "view-in-github",
        "colab_type": "text"
      },
      "source": [
        "<a href=\"https://colab.research.google.com/github/fedhere/MLTSA22_FBianco/blob/main/inclassDTW.ipynb\" target=\"_parent\"><img src=\"https://colab.research.google.com/assets/colab-badge.svg\" alt=\"Open In Colab\"/></a>"
      ]
    },
    {
      "cell_type": "code",
      "execution_count": 1,
      "metadata": {
        "id": "TLnvpnaqM1dS"
      },
      "outputs": [],
      "source": [
        "import numpy as np"
      ]
    },
    {
      "cell_type": "code",
      "source": [
        "def fib(n):\n",
        "  ''' recusrively calculate the next fibonacci number\n",
        "  '''\n",
        "  if n < 2:\n",
        "    return n\n",
        "  return fib(n-1) + fib(n-2)\n"
      ],
      "metadata": {
        "id": "hm9XO3b9M2y3"
      },
      "execution_count": 2,
      "outputs": []
    },
    {
      "cell_type": "code",
      "source": [
        "%time fib(3)"
      ],
      "metadata": {
        "colab": {
          "base_uri": "https://localhost:8080/"
        },
        "id": "0iVDhoPsPADn",
        "outputId": "a93afbc8-58fd-472d-b720-01daf7988cc0"
      },
      "execution_count": 22,
      "outputs": [
        {
          "output_type": "stream",
          "name": "stdout",
          "text": [
            "CPU times: user 10 µs, sys: 0 ns, total: 10 µs\n",
            "Wall time: 15.3 µs\n"
          ]
        },
        {
          "output_type": "execute_result",
          "data": {
            "text/plain": [
              "2"
            ]
          },
          "metadata": {},
          "execution_count": 22
        }
      ]
    },
    {
      "cell_type": "code",
      "source": [
        "%time fib(10)"
      ],
      "metadata": {
        "colab": {
          "base_uri": "https://localhost:8080/"
        },
        "id": "gwjvWyZPPBuJ",
        "outputId": "56787861-e368-4788-9dce-cc94e33be60c"
      },
      "execution_count": 25,
      "outputs": [
        {
          "output_type": "stream",
          "name": "stdout",
          "text": [
            "CPU times: user 54 µs, sys: 0 ns, total: 54 µs\n",
            "Wall time: 59.4 µs\n"
          ]
        },
        {
          "output_type": "execute_result",
          "data": {
            "text/plain": [
              "55"
            ]
          },
          "metadata": {},
          "execution_count": 25
        }
      ]
    },
    {
      "cell_type": "code",
      "source": [
        "%time fib(40)"
      ],
      "metadata": {
        "colab": {
          "base_uri": "https://localhost:8080/"
        },
        "id": "nZ0itqUjNhYp",
        "outputId": "3b8f240b-2cde-47ba-8483-219b3e3bc8dd"
      },
      "execution_count": 11,
      "outputs": [
        {
          "output_type": "stream",
          "name": "stdout",
          "text": [
            "CPU times: user 44.2 s, sys: 127 ms, total: 44.3 s\n",
            "Wall time: 45.3 s\n"
          ]
        },
        {
          "output_type": "execute_result",
          "data": {
            "text/plain": [
              "102334155"
            ]
          },
          "metadata": {},
          "execution_count": 11
        }
      ]
    },
    {
      "cell_type": "code",
      "source": [
        "def fibDP(n):\n",
        "  ''' dynamic programming style calculate the next fibonacci number\n",
        "  '''\n",
        "  fibresult = np.zeros(n+1, int)\n",
        "  fibresult[1] = 1\n",
        "  for i in range(2, n+1):\n",
        "    fibresult[i] = fibresult[i-1] + fibresult[i-2] \n",
        "  return fibresult[-1] \n",
        "  "
      ],
      "metadata": {
        "id": "AwiIG2kINBx0"
      },
      "execution_count": 15,
      "outputs": []
    },
    {
      "cell_type": "code",
      "source": [
        "fibDP(40)"
      ],
      "metadata": {
        "colab": {
          "base_uri": "https://localhost:8080/"
        },
        "id": "UpwlDNUEOoXL",
        "outputId": "6387b12c-3a47-4783-bf27-d765db1ecaeb"
      },
      "execution_count": 20,
      "outputs": [
        {
          "output_type": "execute_result",
          "data": {
            "text/plain": [
              "102334155"
            ]
          },
          "metadata": {},
          "execution_count": 20
        }
      ]
    },
    {
      "cell_type": "code",
      "source": [
        "%time fibDP(3)"
      ],
      "metadata": {
        "colab": {
          "base_uri": "https://localhost:8080/"
        },
        "id": "DNnrSrUZOsXQ",
        "outputId": "daad9113-a108-4969-b0a5-78f691c8aead"
      },
      "execution_count": 26,
      "outputs": [
        {
          "output_type": "stream",
          "name": "stdout",
          "text": [
            "CPU times: user 41 µs, sys: 0 ns, total: 41 µs\n",
            "Wall time: 45.5 µs\n"
          ]
        },
        {
          "output_type": "execute_result",
          "data": {
            "text/plain": [
              "2"
            ]
          },
          "metadata": {},
          "execution_count": 26
        }
      ]
    },
    {
      "cell_type": "code",
      "source": [
        "%time fibDP(10)"
      ],
      "metadata": {
        "colab": {
          "base_uri": "https://localhost:8080/"
        },
        "id": "yP8wnNlVO-wN",
        "outputId": "e603ff94-6f03-4372-e46f-aa43f413ed18"
      },
      "execution_count": 27,
      "outputs": [
        {
          "output_type": "stream",
          "name": "stdout",
          "text": [
            "CPU times: user 55 µs, sys: 1 µs, total: 56 µs\n",
            "Wall time: 61.5 µs\n"
          ]
        },
        {
          "output_type": "execute_result",
          "data": {
            "text/plain": [
              "55"
            ]
          },
          "metadata": {},
          "execution_count": 27
        }
      ]
    },
    {
      "cell_type": "code",
      "source": [
        "%time fibDP(40)"
      ],
      "metadata": {
        "colab": {
          "base_uri": "https://localhost:8080/"
        },
        "id": "j6meoN0BPZsg",
        "outputId": "f4887c8f-5eff-420c-8fcc-bb3503ec2b57"
      },
      "execution_count": 28,
      "outputs": [
        {
          "output_type": "stream",
          "name": "stdout",
          "text": [
            "CPU times: user 71 µs, sys: 1 µs, total: 72 µs\n",
            "Wall time: 79.6 µs\n"
          ]
        },
        {
          "output_type": "execute_result",
          "data": {
            "text/plain": [
              "102334155"
            ]
          },
          "metadata": {},
          "execution_count": 28
        }
      ]
    },
    {
      "cell_type": "code",
      "source": [
        "\n",
        "\n",
        "np.random.seed(123)\n",
        "arr1 = np.random.randint(0,10,4)\n",
        "arr2 = np.random.randint(0,10,4)\n",
        "arr1"
      ],
      "metadata": {
        "colab": {
          "base_uri": "https://localhost:8080/"
        },
        "id": "-3PB4YRTPcjT",
        "outputId": "e0a14123-10d2-49a6-8a0c-b1527a5efa40"
      },
      "execution_count": 29,
      "outputs": [
        {
          "output_type": "execute_result",
          "data": {
            "text/plain": [
              "array([2, 2, 6, 1])"
            ]
          },
          "metadata": {},
          "execution_count": 29
        }
      ]
    },
    {
      "cell_type": "code",
      "source": [
        "arr2"
      ],
      "metadata": {
        "colab": {
          "base_uri": "https://localhost:8080/"
        },
        "id": "Jh8wlrosR6Se",
        "outputId": "90fae0ab-63c9-4ada-85a3-a098757adc63"
      },
      "execution_count": 30,
      "outputs": [
        {
          "output_type": "execute_result",
          "data": {
            "text/plain": [
              "array([3, 9, 6, 1])"
            ]
          },
          "metadata": {},
          "execution_count": 30
        }
      ]
    },
    {
      "cell_type": "code",
      "source": [
        "import pylab as pl"
      ],
      "metadata": {
        "id": "DqCR3rEmR7Kf"
      },
      "execution_count": 31,
      "outputs": []
    },
    {
      "cell_type": "code",
      "source": [
        "pl.plot(arr1)\n",
        "pl.plot(arr2);"
      ],
      "metadata": {
        "colab": {
          "base_uri": "https://localhost:8080/",
          "height": 265
        },
        "id": "TOel23oPR8kZ",
        "outputId": "81f08b8a-9602-4a9b-acff-bc913152bb98"
      },
      "execution_count": 46,
      "outputs": [
        {
          "output_type": "display_data",
          "data": {
            "text/plain": [
              "<Figure size 432x288 with 1 Axes>"
            ],
            "image/png": "[encoded data removed]"
          },
          "metadata": {
            "needs_background": "light"
          }
        }
      ]
    },
    {
      "cell_type": "code",
      "source": [
        "import scipy as sp\n",
        "from scipy import spatial"
      ],
      "metadata": {
        "id": "N2g-Ua_UR9wV"
      },
      "execution_count": 47,
      "outputs": []
    },
    {
      "cell_type": "code",
      "source": [
        "np.diag(sp.spatial.distance_matrix(arr1.reshape(-1,1), arr2.reshape(-1,1))).sum()"
      ],
      "metadata": {
        "colab": {
          "base_uri": "https://localhost:8080/"
        },
        "id": "6QrsZxhuSFtR",
        "outputId": "95fba9d9-3670-4e74-8741-11b8b40f6593"
      },
      "execution_count": 50,
      "outputs": [
        {
          "output_type": "execute_result",
          "data": {
            "text/plain": [
              "8.0"
            ]
          },
          "metadata": {},
          "execution_count": 50
        }
      ]
    },
    {
      "cell_type": "code",
      "source": [
        "np.atleast_2d(arr1).T"
      ],
      "metadata": {
        "colab": {
          "base_uri": "https://localhost:8080/"
        },
        "id": "jI-mylLGSMQb",
        "outputId": "5c06c80a-2494-4fd8-d94c-0c29d2bbe6ef"
      },
      "execution_count": 44,
      "outputs": [
        {
          "output_type": "execute_result",
          "data": {
            "text/plain": [
              "array([[2],\n",
              "       [2],\n",
              "       [6],\n",
              "       [1]])"
            ]
          },
          "metadata": {},
          "execution_count": 44
        }
      ]
    },
    {
      "cell_type": "code",
      "source": [
        "x = np.array([-2, 10, -10, 15, -13, 20, -5, 14, 2])\n",
        "y = np.array([3, -13, 14, -7, 9, -2, 5, 10 , 15])"
      ],
      "metadata": {
        "id": "8D3M5AtuSWdn"
      },
      "execution_count": 51,
      "outputs": []
    },
    {
      "cell_type": "code",
      "source": [
        "distm = sp.spatial.distance_matrix(y.reshape(-1,1), x.reshape(-1,1), p=2)\n",
        "distm "
      ],
      "metadata": {
        "colab": {
          "base_uri": "https://localhost:8080/"
        },
        "id": "hMhGlPqJTfKC",
        "outputId": "8d4bb0d1-b0b8-4cd7-d87e-b728fc3fb234"
      },
      "execution_count": 58,
      "outputs": [
        {
          "output_type": "execute_result",
          "data": {
            "text/plain": [
              "array([[ 5.,  7., 13., 12., 16., 17.,  8., 11.,  1.],\n",
              "       [11., 23.,  3., 28.,  0., 33.,  8., 27., 15.],\n",
              "       [16.,  4., 24.,  1., 27.,  6., 19.,  0., 12.],\n",
              "       [ 5., 17.,  3., 22.,  6., 27.,  2., 21.,  9.],\n",
              "       [11.,  1., 19.,  6., 22., 11., 14.,  5.,  7.],\n",
              "       [ 0., 12.,  8., 17., 11., 22.,  3., 16.,  4.],\n",
              "       [ 7.,  5., 15., 10., 18., 15., 10.,  9.,  3.],\n",
              "       [12.,  0., 20.,  5., 23., 10., 15.,  4.,  8.],\n",
              "       [17.,  5., 25.,  0., 28.,  5., 20.,  1., 13.]])"
            ]
          },
          "metadata": {},
          "execution_count": 58
        }
      ]
    },
    {
      "cell_type": "code",
      "source": [
        "fig, ax = pl.subplots(1,1)\n",
        "pl.imshow(distm, cmap=\"Reds\")\n",
        "pl.xticks(range(9), ['%d'%i for i in x]) \n",
        "pl.yticks(range(9), ['%d'%i for i in y]);\n",
        "ax.xaxis.tick_top()\n",
        "pl.colorbar();"
      ],
      "metadata": {
        "colab": {
          "base_uri": "https://localhost:8080/",
          "height": 271
        },
        "id": "MZIJBtwcTqDN",
        "outputId": "acaca83e-cbbf-4e71-94ae-d04464c85cec"
      },
      "execution_count": 67,
      "outputs": [
        {
          "output_type": "display_data",
          "data": {
            "text/plain": [
              "<Figure size 432x288 with 2 Axes>"
            ],
            "image/png": "[encoded data removed]"
          },
          "metadata": {
            "needs_background": "light"
          }
        }
      ]
    },
    {
      "cell_type": "code",
      "source": [
        "fig, ax = pl.subplots(1,1)\n",
        "pl.imshow(distm, cmap=\"Reds\")\n",
        "pl.colorbar()\n",
        "\n",
        "pl.xticks(range(9), ['%d'%i for i in x])\n",
        "ax.xaxis.tick_top()\n",
        "pl.yticks(range(9), ['%d'%i for i in y]);\n",
        "\n",
        "for i,xx in enumerate(y):\n",
        "  for j,yy in enumerate(x):\n",
        "    pl.text(j, i, \"%d\"%distm[i][j], transform=ax.transData,\n",
        "            va=\"center\", ha=\"center\")"
      ],
      "metadata": {
        "colab": {
          "base_uri": "https://localhost:8080/",
          "height": 271
        },
        "id": "7v_V3myhT71C",
        "outputId": "3e2ddad4-45a7-4235-801a-2ad58fec2ae5"
      },
      "execution_count": 68,
      "outputs": [
        {
          "output_type": "display_data",
          "data": {
            "text/plain": [
              "<Figure size 432x288 with 2 Axes>"
            ],
            "image/png": "[encoded data removed]"
          },
          "metadata": {
            "needs_background": "light"
          }
        }
      ]
    },
    {
      "cell_type": "code",
      "source": [
        ""
      ],
      "metadata": {
        "id": "ByAEnzIRWQW3"
      },
      "execution_count": null,
      "outputs": []
    }
  ]
}