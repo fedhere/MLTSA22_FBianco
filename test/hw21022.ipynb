{
  "nbformat": 4,
  "nbformat_minor": 0,
  "metadata": {
    "colab": {
      "name": "hw21022.ipynb",
      "provenance": [],
      "authorship_tag": "ABX9TyONp9HoxIH4Be63hNUEyCiE",
      "include_colab_link": true
    },
    "kernelspec": {
      "name": "python3",
      "display_name": "Python 3"
    },
    "language_info": {
      "name": "python"
    }
  },
  "cells": [
    {
      "cell_type": "markdown",
      "metadata": {
        "id": "view-in-github",
        "colab_type": "text"
      },
      "source": [
        "<a href=\"https://colab.research.google.com/github/fedhere/MLTSA22_FBianco/blob/main/test/hw21022.ipynb\" target=\"_parent\"><img src=\"https://colab.research.google.com/assets/colab-badge.svg\" alt=\"Open In Colab\"/></a>"
      ]
    },
    {
      "cell_type": "code",
      "execution_count": null,
      "metadata": {
        "id": "bgMUgFXAYuEk"
      },
      "outputs": [],
      "source": [
        "print(\"hello worlds againt\")"
      ]
    }
  ]
}