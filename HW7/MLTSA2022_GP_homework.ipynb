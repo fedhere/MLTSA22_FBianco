{
  "nbformat": 4,
  "nbformat_minor": 0,
  "metadata": {
    "kernelspec": {
      "display_name": "Python 3",
      "language": "python",
      "name": "python3"
    },
    "language_info": {
      "codemirror_mode": {
        "name": "ipython",
        "version": 3
      },
      "file_extension": ".py",
      "mimetype": "text/x-python",
      "name": "python",
      "nbconvert_exporter": "python",
      "pygments_lexer": "ipython3",
      "version": "3.7.3"
    },
    "latex_envs": {
      "LaTeX_envs_menu_present": true,
      "autoclose": false,
      "autocomplete": true,
      "bibliofile": "biblio.bib",
      "cite_by": "apalike",
      "current_citInitial": 1,
      "eqLabelWithNumbers": true,
      "eqNumInitial": 1,
      "hotkeys": {
        "equation": "Ctrl-E",
        "itemize": "Ctrl-I"
      },
      "labels_anchors": false,
      "latex_user_defs": false,
      "report_style_numbering": false,
      "user_envs_cfg": false
    },
    "nbTranslate": {
      "displayLangs": [
        "*"
      ],
      "hotkey": "alt-t",
      "langInMainMenu": true,
      "sourceLang": "en",
      "targetLang": "fr",
      "useGoogleTranslate": true
    },
    "toc": {
      "base_numbering": 1,
      "nav_menu": {},
      "number_sections": true,
      "sideBar": true,
      "skip_h1_title": false,
      "title_cell": "Table of Contents",
      "title_sidebar": "Contents",
      "toc_cell": false,
      "toc_position": {},
      "toc_section_display": true,
      "toc_window_display": false
    },
    "colab": {
      "name": "MLTSA2022 GP homework",
      "provenance": [],
      "collapsed_sections": [],
      "include_colab_link": true
    }
  },
  "cells": [
    {
      "cell_type": "markdown",
      "metadata": {
        "id": "view-in-github",
        "colab_type": "text"
      },
      "source": [
        "<a href=\"https://colab.research.google.com/github/fedhere/MLTSA22_FBianco/blob/main/HW7/MLTSA2022_GP_homework.ipynb\" target=\"_parent\"><img src=\"https://colab.research.google.com/assets/colab-badge.svg\" alt=\"Open In Colab\"/></a>"
      ]
    },
    {
      "cell_type": "markdown",
      "metadata": {
        "id": "eWKE7cXHsHCl"
      },
      "source": [
        "\n",
        "This is an exercise on feature extractoin and Gaussian Processes interpolation of sparse time series."
      ]
    },
    {
      "cell_type": "markdown",
      "metadata": {
        "id": "Zx-fcjEslVYc"
      },
      "source": [
        "## OVERVIEW\n",
        "\n",
        "The PLAsTiCC challend is a Kaggle challange to classify astrophysical objects (e.g. stars, exploding stars, stars with planets transiting, black holes) based on their time variability in light emission in 6 different bands (i.e. wavelength ranges). The sampling (the cadence of the observations) is designed to show what the upcming Rubin Observatory LSST (Legacy Survey of Space and Time) will see when it starts observing (in 2023). \n",
        "\n",
        "You can refer to this notebook https://www.kaggle.com/michaelapers/the-plasticc-astronomy-starter-kit (written by my good friend Gautham Narayan) to get started and ingest and preprocess the PLASTiCC challenge data. If you are not familiar with classes (object oriented syntax) do not worry about it: I do want you to extract the features yourself. So use it as a guideline, but do not just copy and paste.\n",
        "\n",
        "Your task is to extract features, i.e. representations of the time series, and fit the time series with Gaussian Processes. \n",
        "\n"
      ]
    },
    {
      "cell_type": "code",
      "metadata": {
        "ExecuteTime": {
          "end_time": "2020-04-05T15:08:27.530325Z",
          "start_time": "2020-04-05T15:08:26.971473Z"
        },
        "id": "-G6oPTITlVYd",
        "colab": {
          "base_uri": "https://localhost:8080/"
        },
        "outputId": "ccc1ea6b-16ca-49a9-d756-bcc946991e56"
      },
      "source": [
        "import pandas as pd\n",
        "import numpy as np\n",
        "import pylab as pl\n",
        "\n",
        "%pylab inline\n"
      ],
      "execution_count": 1,
      "outputs": [
        {
          "output_type": "stream",
          "name": "stdout",
          "text": [
            "Populating the interactive namespace from numpy and matplotlib\n"
          ]
        }
      ]
    },
    {
      "cell_type": "markdown",
      "metadata": {
        "ExecuteTime": {
          "end_time": "2020-04-05T14:30:57.608296Z",
          "start_time": "2020-04-05T14:30:57.606452Z"
        },
        "id": "w1y1TFCHlVYf"
      },
      "source": [
        "# TASK I :  Data Acquisition\n",
        " You can download the data from kaggle\n",
        " --- https://www.kaggle.com/c/PLAsTiCC-2018\n",
        " or from zenodo\n",
        " --- https://zenodo.org/record/2539456#.XonrIdNKjOQ\n",
        " Choose how to do it but make sure that it is a reproducible way. You will need the **training data and the metadata files** only - you wont need to use the test data\n"
      ]
    },
    {
      "cell_type": "code",
      "metadata": {
        "id": "B3GeSII5fsgF"
      },
      "source": [
        "lcvs = "
      ],
      "execution_count": 2,
      "outputs": []
    },
    {
      "cell_type": "code",
      "metadata": {
        "colab": {
          "base_uri": "https://localhost:8080/",
          "height": 206
        },
        "id": "HGckMxtkgi05",
        "outputId": "c1d55d06-3b58-4f00-8e3a-b4b0da639267"
      },
      "source": [
        "lcvs.head() "
      ],
      "execution_count": 4,
      "outputs": [
        {
          "output_type": "execute_result",
          "data": {
            "text/plain": [
              "   object_id         mjd  passband        flux   flux_err  detected\n",
              "0        615  59750.4229         2 -544.810303   3.622952         1\n",
              "1        615  59750.4306         1 -816.434326   5.553370         1\n",
              "2        615  59750.4383         3 -471.385529   3.801213         1\n",
              "3        615  59750.4450         4 -388.984985  11.395031         1\n",
              "4        615  59752.4070         2 -681.858887   4.041204         1"
            ],
            "text/html": [
              "\n",
              "  <div id=\"df-154080ce-e1d5-485f-b769-e0ad091350db\">\n",
              "    <div class=\"colab-df-container\">\n",
              "      <div>\n",
              "<style scoped>\n",
              "    .dataframe tbody tr th:only-of-type {\n",
              "        vertical-align: middle;\n",
              "    }\n",
              "\n",
              "    .dataframe tbody tr th {\n",
              "        vertical-align: top;\n",
              "    }\n",
              "\n",
              "    .dataframe thead th {\n",
              "        text-align: right;\n",
              "    }\n",
              "</style>\n",
              "<table border=\"1\" class=\"dataframe\">\n",
              "  <thead>\n",
              "    <tr style=\"text-align: right;\">\n",
              "      <th></th>\n",
              "      <th>object_id</th>\n",
              "      <th>mjd</th>\n",
              "      <th>passband</th>\n",
              "      <th>flux</th>\n",
              "      <th>flux_err</th>\n",
              "      <th>detected</th>\n",
              "    </tr>\n",
              "  </thead>\n",
              "  <tbody>\n",
              "    <tr>\n",
              "      <th>0</th>\n",
              "      <td>615</td>\n",
              "      <td>59750.4229</td>\n",
              "      <td>2</td>\n",
              "      <td>-544.810303</td>\n",
              "      <td>3.622952</td>\n",
              "      <td>1</td>\n",
              "    </tr>\n",
              "    <tr>\n",
              "      <th>1</th>\n",
              "      <td>615</td>\n",
              "      <td>59750.4306</td>\n",
              "      <td>1</td>\n",
              "      <td>-816.434326</td>\n",
              "      <td>5.553370</td>\n",
              "      <td>1</td>\n",
              "    </tr>\n",
              "    <tr>\n",
              "      <th>2</th>\n",
              "      <td>615</td>\n",
              "      <td>59750.4383</td>\n",
              "      <td>3</td>\n",
              "      <td>-471.385529</td>\n",
              "      <td>3.801213</td>\n",
              "      <td>1</td>\n",
              "    </tr>\n",
              "    <tr>\n",
              "      <th>3</th>\n",
              "      <td>615</td>\n",
              "      <td>59750.4450</td>\n",
              "      <td>4</td>\n",
              "      <td>-388.984985</td>\n",
              "      <td>11.395031</td>\n",
              "      <td>1</td>\n",
              "    </tr>\n",
              "    <tr>\n",
              "      <th>4</th>\n",
              "      <td>615</td>\n",
              "      <td>59752.4070</td>\n",
              "      <td>2</td>\n",
              "      <td>-681.858887</td>\n",
              "      <td>4.041204</td>\n",
              "      <td>1</td>\n",
              "    </tr>\n",
              "  </tbody>\n",
              "</table>\n",
              "</div>\n",
              "      <button class=\"colab-df-convert\" onclick=\"convertToInteractive('df-154080ce-e1d5-485f-b769-e0ad091350db')\"\n",
              "              title=\"Convert this dataframe to an interactive table.\"\n",
              "              style=\"display:none;\">\n",
              "        \n",
              "  <svg xmlns=\"http://www.w3.org/2000/svg\" height=\"24px\"viewBox=\"0 0 24 24\"\n",
              "       width=\"24px\">\n",
              "    <path d=\"M0 0h24v24H0V0z\" fill=\"none\"/>\n",
              "    <path d=\"M18.56 5.44l.94 2.06.94-2.06 2.06-.94-2.06-.94-.94-2.06-.94 2.06-2.06.94zm-11 1L8.5 8.5l.94-2.06 2.06-.94-2.06-.94L8.5 2.5l-.94 2.06-2.06.94zm10 10l.94 2.06.94-2.06 2.06-.94-2.06-.94-.94-2.06-.94 2.06-2.06.94z\"/><path d=\"M17.41 7.96l-1.37-1.37c-.4-.4-.92-.59-1.43-.59-.52 0-1.04.2-1.43.59L10.3 9.45l-7.72 7.72c-.78.78-.78 2.05 0 2.83L4 21.41c.39.39.9.59 1.41.59.51 0 1.02-.2 1.41-.59l7.78-7.78 2.81-2.81c.8-.78.8-2.07 0-2.86zM5.41 20L4 18.59l7.72-7.72 1.47 1.35L5.41 20z\"/>\n",
              "  </svg>\n",
              "      </button>\n",
              "      \n",
              "  <style>\n",
              "    .colab-df-container {\n",
              "      display:flex;\n",
              "      flex-wrap:wrap;\n",
              "      gap: 12px;\n",
              "    }\n",
              "\n",
              "    .colab-df-convert {\n",
              "      background-color: #E8F0FE;\n",
              "      border: none;\n",
              "      border-radius: 50%;\n",
              "      cursor: pointer;\n",
              "      display: none;\n",
              "      fill: #1967D2;\n",
              "      height: 32px;\n",
              "      padding: 0 0 0 0;\n",
              "      width: 32px;\n",
              "    }\n",
              "\n",
              "    .colab-df-convert:hover {\n",
              "      background-color: #E2EBFA;\n",
              "      box-shadow: 0px 1px 2px rgba(60, 64, 67, 0.3), 0px 1px 3px 1px rgba(60, 64, 67, 0.15);\n",
              "      fill: #174EA6;\n",
              "    }\n",
              "\n",
              "    [theme=dark] .colab-df-convert {\n",
              "      background-color: #3B4455;\n",
              "      fill: #D2E3FC;\n",
              "    }\n",
              "\n",
              "    [theme=dark] .colab-df-convert:hover {\n",
              "      background-color: #434B5C;\n",
              "      box-shadow: 0px 1px 3px 1px rgba(0, 0, 0, 0.15);\n",
              "      filter: drop-shadow(0px 1px 2px rgba(0, 0, 0, 0.3));\n",
              "      fill: #FFFFFF;\n",
              "    }\n",
              "  </style>\n",
              "\n",
              "      <script>\n",
              "        const buttonEl =\n",
              "          document.querySelector('#df-154080ce-e1d5-485f-b769-e0ad091350db button.colab-df-convert');\n",
              "        buttonEl.style.display =\n",
              "          google.colab.kernel.accessAllowed ? 'block' : 'none';\n",
              "\n",
              "        async function convertToInteractive(key) {\n",
              "          const element = document.querySelector('#df-154080ce-e1d5-485f-b769-e0ad091350db');\n",
              "          const dataTable =\n",
              "            await google.colab.kernel.invokeFunction('convertToInteractive',\n",
              "                                                     [key], {});\n",
              "          if (!dataTable) return;\n",
              "\n",
              "          const docLinkHtml = 'Like what you see? Visit the ' +\n",
              "            '<a target=\"_blank\" href=https://colab.research.google.com/notebooks/data_table.ipynb>data table notebook</a>'\n",
              "            + ' to learn more about interactive tables.';\n",
              "          element.innerHTML = '';\n",
              "          dataTable['output_type'] = 'display_data';\n",
              "          await google.colab.output.renderOutput(dataTable, element);\n",
              "          const docLink = document.createElement('div');\n",
              "          docLink.innerHTML = docLinkHtml;\n",
              "          element.appendChild(docLink);\n",
              "        }\n",
              "      </script>\n",
              "    </div>\n",
              "  </div>\n",
              "  "
            ]
          },
          "metadata": {},
          "execution_count": 4
        }
      ]
    },
    {
      "cell_type": "code",
      "metadata": {
        "colab": {
          "base_uri": "https://localhost:8080/"
        },
        "id": "-WiZeVM42Y0Q",
        "outputId": "19321110-bc08-485d-f52b-8412e17dac87"
      },
      "source": [
        "print(\"The shape of light curves dataset is:\", lcvs.shape)"
      ],
      "execution_count": 5,
      "outputs": [
        {
          "output_type": "stream",
          "name": "stdout",
          "text": [
            "The shape of light curves dataset is: (1421705, 6)\n"
          ]
        }
      ]
    },
    {
      "cell_type": "code",
      "metadata": {
        "id": "BQL3NuaD2k8p"
      },
      "source": [
        "#check missing values\n",
        "lcvs.isna().sum()"
      ],
      "execution_count": null,
      "outputs": []
    },
    {
      "cell_type": "markdown",
      "metadata": {
        "id": "TWugx930lVYg"
      },
      "source": [
        "Read the Kaggle challenge for a description of the data . This \"Starter Kit\" which includes a notebook (written by y good friend Gautham Narayan) may be especially useful\n",
        "https://www.kaggle.com/michaelapers/the-plasticc-astronomy-starter-kit"
      ]
    },
    {
      "cell_type": "markdown",
      "metadata": {
        "id": "2ZyOj9TElVYg"
      },
      "source": [
        "For each object there are 6 time series in 6 different passbands "
      ]
    },
    {
      "cell_type": "code",
      "metadata": {
        "ExecuteTime": {
          "end_time": "2020-04-05T15:08:28.281141Z",
          "start_time": "2020-04-05T15:08:28.273051Z"
        },
        "id": "MJy3H0dplVYg"
      },
      "source": [
        "bands = lcvs[\"passband\"].unique()\n",
        "print(\"Passbands (filter) identifiers:\", bands)"
      ],
      "execution_count": null,
      "outputs": []
    },
    {
      "cell_type": "code",
      "metadata": {
        "ExecuteTime": {
          "end_time": "2020-04-05T15:08:28.299030Z",
          "start_time": "2020-04-05T15:08:28.283127Z"
        },
        "id": "75WQrrI8lVYh"
      },
      "source": [
        "objects = lcvs[\"object_id\"].unique()\n",
        "print(\"There are {} astrophysical simulated objects in my dataset\".format(objects.shape[0]))"
      ],
      "execution_count": null,
      "outputs": []
    },
    {
      "cell_type": "code",
      "metadata": {
        "colab": {
          "base_uri": "https://localhost:8080/",
          "height": 270
        },
        "id": "USNm_ECcPRSI",
        "outputId": "8169d438-82fe-495a-bfba-d73a1dd130f1"
      },
      "source": [
        "metadata = ...\n",
        "metadata.head()"
      ],
      "execution_count": 9,
      "outputs": [
        {
          "output_type": "execute_result",
          "data": {
            "text/plain": [
              "   object_id          ra       decl       gal_l      gal_b  ddf  \\\n",
              "0        615  349.046051 -61.943836  320.796530 -51.753706    1   \n",
              "1        713   53.085938 -27.784405  223.525509 -54.460748    1   \n",
              "2        730   33.574219  -6.579593  170.455585 -61.548219    1   \n",
              "3        745    0.189873 -45.586655  328.254458 -68.969298    1   \n",
              "4       1124  352.711273 -63.823658  316.922299 -51.059403    1   \n",
              "\n",
              "   hostgal_specz  hostgal_photoz  hostgal_photoz_err  distmod  mwebv  target  \n",
              "0         0.0000          0.0000              0.0000      NaN  0.017      92  \n",
              "1         1.8181          1.6267              0.2552  45.4063  0.007      88  \n",
              "2         0.2320          0.2262              0.0157  40.2561  0.021      42  \n",
              "3         0.3037          0.2813              1.1523  40.7951  0.007      90  \n",
              "4         0.1934          0.2415              0.0176  40.4166  0.024      90  "
            ],
            "text/html": [
              "\n",
              "  <div id=\"df-91f9b588-8291-4142-8601-4bc7a6574cf1\">\n",
              "    <div class=\"colab-df-container\">\n",
              "      <div>\n",
              "<style scoped>\n",
              "    .dataframe tbody tr th:only-of-type {\n",
              "        vertical-align: middle;\n",
              "    }\n",
              "\n",
              "    .dataframe tbody tr th {\n",
              "        vertical-align: top;\n",
              "    }\n",
              "\n",
              "    .dataframe thead th {\n",
              "        text-align: right;\n",
              "    }\n",
              "</style>\n",
              "<table border=\"1\" class=\"dataframe\">\n",
              "  <thead>\n",
              "    <tr style=\"text-align: right;\">\n",
              "      <th></th>\n",
              "      <th>object_id</th>\n",
              "      <th>ra</th>\n",
              "      <th>decl</th>\n",
              "      <th>gal_l</th>\n",
              "      <th>gal_b</th>\n",
              "      <th>ddf</th>\n",
              "      <th>hostgal_specz</th>\n",
              "      <th>hostgal_photoz</th>\n",
              "      <th>hostgal_photoz_err</th>\n",
              "      <th>distmod</th>\n",
              "      <th>mwebv</th>\n",
              "      <th>target</th>\n",
              "    </tr>\n",
              "  </thead>\n",
              "  <tbody>\n",
              "    <tr>\n",
              "      <th>0</th>\n",
              "      <td>615</td>\n",
              "      <td>349.046051</td>\n",
              "      <td>-61.943836</td>\n",
              "      <td>320.796530</td>\n",
              "      <td>-51.753706</td>\n",
              "      <td>1</td>\n",
              "      <td>0.0000</td>\n",
              "      <td>0.0000</td>\n",
              "      <td>0.0000</td>\n",
              "      <td>NaN</td>\n",
              "      <td>0.017</td>\n",
              "      <td>92</td>\n",
              "    </tr>\n",
              "    <tr>\n",
              "      <th>1</th>\n",
              "      <td>713</td>\n",
              "      <td>53.085938</td>\n",
              "      <td>-27.784405</td>\n",
              "      <td>223.525509</td>\n",
              "      <td>-54.460748</td>\n",
              "      <td>1</td>\n",
              "      <td>1.8181</td>\n",
              "      <td>1.6267</td>\n",
              "      <td>0.2552</td>\n",
              "      <td>45.4063</td>\n",
              "      <td>0.007</td>\n",
              "      <td>88</td>\n",
              "    </tr>\n",
              "    <tr>\n",
              "      <th>2</th>\n",
              "      <td>730</td>\n",
              "      <td>33.574219</td>\n",
              "      <td>-6.579593</td>\n",
              "      <td>170.455585</td>\n",
              "      <td>-61.548219</td>\n",
              "      <td>1</td>\n",
              "      <td>0.2320</td>\n",
              "      <td>0.2262</td>\n",
              "      <td>0.0157</td>\n",
              "      <td>40.2561</td>\n",
              "      <td>0.021</td>\n",
              "      <td>42</td>\n",
              "    </tr>\n",
              "    <tr>\n",
              "      <th>3</th>\n",
              "      <td>745</td>\n",
              "      <td>0.189873</td>\n",
              "      <td>-45.586655</td>\n",
              "      <td>328.254458</td>\n",
              "      <td>-68.969298</td>\n",
              "      <td>1</td>\n",
              "      <td>0.3037</td>\n",
              "      <td>0.2813</td>\n",
              "      <td>1.1523</td>\n",
              "      <td>40.7951</td>\n",
              "      <td>0.007</td>\n",
              "      <td>90</td>\n",
              "    </tr>\n",
              "    <tr>\n",
              "      <th>4</th>\n",
              "      <td>1124</td>\n",
              "      <td>352.711273</td>\n",
              "      <td>-63.823658</td>\n",
              "      <td>316.922299</td>\n",
              "      <td>-51.059403</td>\n",
              "      <td>1</td>\n",
              "      <td>0.1934</td>\n",
              "      <td>0.2415</td>\n",
              "      <td>0.0176</td>\n",
              "      <td>40.4166</td>\n",
              "      <td>0.024</td>\n",
              "      <td>90</td>\n",
              "    </tr>\n",
              "  </tbody>\n",
              "</table>\n",
              "</div>\n",
              "      <button class=\"colab-df-convert\" onclick=\"convertToInteractive('df-91f9b588-8291-4142-8601-4bc7a6574cf1')\"\n",
              "              title=\"Convert this dataframe to an interactive table.\"\n",
              "              style=\"display:none;\">\n",
              "        \n",
              "  <svg xmlns=\"http://www.w3.org/2000/svg\" height=\"24px\"viewBox=\"0 0 24 24\"\n",
              "       width=\"24px\">\n",
              "    <path d=\"M0 0h24v24H0V0z\" fill=\"none\"/>\n",
              "    <path d=\"M18.56 5.44l.94 2.06.94-2.06 2.06-.94-2.06-.94-.94-2.06-.94 2.06-2.06.94zm-11 1L8.5 8.5l.94-2.06 2.06-.94-2.06-.94L8.5 2.5l-.94 2.06-2.06.94zm10 10l.94 2.06.94-2.06 2.06-.94-2.06-.94-.94-2.06-.94 2.06-2.06.94z\"/><path d=\"M17.41 7.96l-1.37-1.37c-.4-.4-.92-.59-1.43-.59-.52 0-1.04.2-1.43.59L10.3 9.45l-7.72 7.72c-.78.78-.78 2.05 0 2.83L4 21.41c.39.39.9.59 1.41.59.51 0 1.02-.2 1.41-.59l7.78-7.78 2.81-2.81c.8-.78.8-2.07 0-2.86zM5.41 20L4 18.59l7.72-7.72 1.47 1.35L5.41 20z\"/>\n",
              "  </svg>\n",
              "      </button>\n",
              "      \n",
              "  <style>\n",
              "    .colab-df-container {\n",
              "      display:flex;\n",
              "      flex-wrap:wrap;\n",
              "      gap: 12px;\n",
              "    }\n",
              "\n",
              "    .colab-df-convert {\n",
              "      background-color: #E8F0FE;\n",
              "      border: none;\n",
              "      border-radius: 50%;\n",
              "      cursor: pointer;\n",
              "      display: none;\n",
              "      fill: #1967D2;\n",
              "      height: 32px;\n",
              "      padding: 0 0 0 0;\n",
              "      width: 32px;\n",
              "    }\n",
              "\n",
              "    .colab-df-convert:hover {\n",
              "      background-color: #E2EBFA;\n",
              "      box-shadow: 0px 1px 2px rgba(60, 64, 67, 0.3), 0px 1px 3px 1px rgba(60, 64, 67, 0.15);\n",
              "      fill: #174EA6;\n",
              "    }\n",
              "\n",
              "    [theme=dark] .colab-df-convert {\n",
              "      background-color: #3B4455;\n",
              "      fill: #D2E3FC;\n",
              "    }\n",
              "\n",
              "    [theme=dark] .colab-df-convert:hover {\n",
              "      background-color: #434B5C;\n",
              "      box-shadow: 0px 1px 3px 1px rgba(0, 0, 0, 0.15);\n",
              "      filter: drop-shadow(0px 1px 2px rgba(0, 0, 0, 0.3));\n",
              "      fill: #FFFFFF;\n",
              "    }\n",
              "  </style>\n",
              "\n",
              "      <script>\n",
              "        const buttonEl =\n",
              "          document.querySelector('#df-91f9b588-8291-4142-8601-4bc7a6574cf1 button.colab-df-convert');\n",
              "        buttonEl.style.display =\n",
              "          google.colab.kernel.accessAllowed ? 'block' : 'none';\n",
              "\n",
              "        async function convertToInteractive(key) {\n",
              "          const element = document.querySelector('#df-91f9b588-8291-4142-8601-4bc7a6574cf1');\n",
              "          const dataTable =\n",
              "            await google.colab.kernel.invokeFunction('convertToInteractive',\n",
              "                                                     [key], {});\n",
              "          if (!dataTable) return;\n",
              "\n",
              "          const docLinkHtml = 'Like what you see? Visit the ' +\n",
              "            '<a target=\"_blank\" href=https://colab.research.google.com/notebooks/data_table.ipynb>data table notebook</a>'\n",
              "            + ' to learn more about interactive tables.';\n",
              "          element.innerHTML = '';\n",
              "          dataTable['output_type'] = 'display_data';\n",
              "          await google.colab.output.renderOutput(dataTable, element);\n",
              "          const docLink = document.createElement('div');\n",
              "          docLink.innerHTML = docLinkHtml;\n",
              "          element.appendChild(docLink);\n",
              "        }\n",
              "      </script>\n",
              "    </div>\n",
              "  </div>\n",
              "  "
            ]
          },
          "metadata": {},
          "execution_count": 9
        }
      ]
    },
    {
      "cell_type": "code",
      "metadata": {
        "id": "VuWokYGTRP8r"
      },
      "source": [
        "print(\"The metadata columns are: \", metadata.columns)"
      ],
      "execution_count": null,
      "outputs": []
    },
    {
      "cell_type": "code",
      "metadata": {
        "id": "1tQRZvDRRafP"
      },
      "source": [
        "print(\"The metadata dataset contains features: \", metadata.shape[1])"
      ],
      "execution_count": null,
      "outputs": []
    },
    {
      "cell_type": "markdown",
      "metadata": {
        "id": "toxu4YKKlVYi"
      },
      "source": [
        "# TASK II : data exploration and visualization - plot some time series \n",
        "Visualize my data to get a sense of what we are working with. \n",
        "\n",
        "\n",
        "\n"
      ]
    },
    {
      "cell_type": "markdown",
      "metadata": {
        "id": "UZB5DqYwnVpQ"
      },
      "source": [
        "Plot light curves for 10 objects. "
      ]
    },
    {
      "cell_type": "markdown",
      "source": [
        "YOUR CODE HERE..."
      ],
      "metadata": {
        "id": "dKCBUaLreWQx"
      }
    },
    {
      "cell_type": "markdown",
      "source": [
        "Plot explicitly object 84716"
      ],
      "metadata": {
        "id": "sljsKAQbPZjb"
      }
    },
    {
      "cell_type": "markdown",
      "source": [
        "YOUR CODE HERE"
      ],
      "metadata": {
        "id": "svYpA7PzURe0"
      }
    },
    {
      "cell_type": "markdown",
      "metadata": {
        "id": "dvf0NyI9lVYj"
      },
      "source": [
        "# TASK III: Extract features\n",
        "\n",
        "Feature extraction refers to the extraction of statistical features of the datapoints or the generation of low dimensional representations of the data points that can then be passed to a classifier/regression\n",
        "\n",
        "Extract at least 4 features including at least 1 feature from all three category below\n",
        "\n",
        "The code that won the callenge did a number of smart things, of course. It was a feature based classification scheme, which included Gaussian Processes in the preprocessing. The feature extraction part of the code is here. https://github.com/kboone/avocado/blob/master/avocado/plasticc.py\n",
        "\n",
        "Examples of features you can extract:\n",
        "\n",
        "- **from the original lightcurve**: \n",
        "    - mean, \n",
        "    - standard deviation, \n",
        "    - skewness, \n",
        "    - kurthosis, \n",
        "    - minimum \n",
        "    - maximmum,\n",
        "    - error on the minimum and \n",
        "    - error on the maximum, \n",
        "- **from the standardized lightcurve**:\n",
        "    - median \n",
        "    - slope of a line fit\n",
        "    - intercept of a line fit\n",
        "    - likelihood of the line fit\n",
        "    - likelihood of a quadratic fit\n",
        "    - sign of the quadratic parameter\n",
        "\n",
        "\n",
        "- **from the metadata file**:\n",
        "    - decl; this is one of the positions in the sky variables: important because the position on the sky may determin if it is a galactic or extragalactic object\n",
        "    - ddf_bool ; the kind of survey i.e. the data collection scheme that lead to the time series\n",
        "    - hostgal_photoz\n",
        "    - hostgal_photoz_err\n",
        "    \n",
        "The feature in the metadata files are the hardest ones to decide on because they require domain knowledge.\n",
        "Most of the other features in the metadata are unknown for test objects (only known for the training set)\n",
        "\n",
        "\n",
        "Extract at least 4 features including 1 features from all three category above: original lcv, standardized lcv, metadata. Justify each feature. Coming up with different features than the ones I suggested is very welcome! Remember that if the features are extracted from the time series there will be 4 features for each passbands.\n",
        "\n",
        "Note: we are working with bigg-ish data! \n",
        "First off: every new piece should be developed on a subset of the dataset, then run on all the data only when ready. \n",
        "Still, if you try achieve goals by implementing for loops you are not going to be able to run the notebook for the whole data, or even only 1 batch of the full datase. A good solution is to use the groupby() method in pandas. I used groupby everywhere. Also it may be wise to write out intermediate outputs, so you do not have to loose work if your kernel dies or something similar. "
      ]
    },
    {
      "cell_type": "markdown",
      "metadata": {
        "id": "4OU5iAEFlVYk"
      },
      "source": [
        "\n",
        "describe each feature you plan to extract. Briefly indicate why you think it is a valuable feature and what data type is it (e.g. continuous, binary, categorical, if continuous does it have a max or min value or is it unbound?)\n",
        "\n",
        "        "
      ]
    },
    {
      "cell_type": "markdown",
      "metadata": {
        "id": "5ytS0DzhlVYk"
      },
      "source": [
        "### extract some features from the raw lightcurve - \n"
      ]
    },
    {
      "cell_type": "markdown",
      "metadata": {
        "id": "gjaS_wTClVYl"
      },
      "source": [
        "higher order moments of the distribution can be obtained with the scipy.stats.moment() function which can be applied to a grouby() object\n",
        "note that this way you can apply a function that takes only one argument, the argument over which groupby iterates (the flux here). But moments take 2: the value and the moment Create a function call"
      ]
    },
    {
      "cell_type": "code",
      "metadata": {
        "ExecuteTime": {
          "end_time": "2020-04-05T15:08:31.653520Z",
          "start_time": "2020-04-05T15:08:31.493218Z"
        },
        "id": "IbscbPtrlVYk"
      },
      "source": [
        "#example (you can use this code but this wont count for your 4 features)\n",
        "means = lcvs.groupby([\"object_id\", \"passband\"])[[\"flux\"]].mean()"
      ],
      "execution_count": 18,
      "outputs": []
    },
    {
      "cell_type": "code",
      "metadata": {
        "ExecuteTime": {
          "end_time": "2020-04-05T15:08:48.782109Z",
          "start_time": "2020-04-05T15:08:31.676698Z"
        },
        "id": "vfHewV0WlVYl"
      },
      "source": [
        "#example (you can use this code but this wont count for your 4 features)\n",
        "from scipy import stats \n",
        "def m2(x):\n",
        "    return stats.moment(x, moment = 2)\n"
      ],
      "execution_count": 31,
      "outputs": []
    },
    {
      "cell_type": "markdown",
      "metadata": {
        "id": "ASPTCZn3lVYl"
      },
      "source": [
        "Even with the same standard deviation two distribution can be very different. \n",
        "Look at the this article for a great demonstation of that! https://heap.io/blog/data-stories/anscombes-quartet-and-why-summary-statistics-dont-tell-the-whole-story\n",
        "\n",
        "I extracted  the max and min, but also their uncertainties because outlier points may be measurement issues, in which case the uncertainty may be large : see the plot you made for 84716!\n",
        "\n",
        "If a distribution has spikes the standard deviation will be larger even if the other datapoints are exactly the same. Save the mean and the max of both original distribution and the standardized one (standardized = mean subtracted and divided by the standard deviation). \n"
      ]
    },
    {
      "cell_type": "markdown",
      "metadata": {
        "id": "CdlGzTnHlVYm"
      },
      "source": [
        "Standardize the lcvs and extract some features from the raw lightcurve - \n"
      ]
    },
    {
      "cell_type": "markdown",
      "metadata": {
        "id": "dIHttYe69Pkl"
      },
      "source": [
        "You can do it use  the preprocessing.scale function and groupby, which group by object and band. It does its job, but it is slow"
      ]
    },
    {
      "cell_type": "code",
      "metadata": {
        "id": "kRXCenv6A6Rf"
      },
      "source": [
        "#check if you did it right\n",
        "print(\"Mean:\", mean_norm)\n",
        "print(\"Standard Deviation:\", std_norm)"
      ],
      "execution_count": null,
      "outputs": []
    },
    {
      "cell_type": "markdown",
      "metadata": {
        "ExecuteTime": {
          "end_time": "2020-04-05T14:54:48.400855Z",
          "start_time": "2020-04-05T14:54:48.399021Z"
        },
        "id": "V36QL4dQlVYn"
      },
      "source": [
        "Note: the median of the standardizeed distribution would convey the location of the \"center of mass\" of the data with respect to the mean\n"
      ]
    },
    {
      "cell_type": "markdown",
      "metadata": {
        "id": "7RMB7NBZlVYo"
      },
      "source": [
        "parametric features: extract some features that come from simple models of the lightcurve, e.g. line fits\n",
        "\n"
      ]
    },
    {
      "cell_type": "markdown",
      "metadata": {
        "id": "vO_Ja9j_Xpox"
      },
      "source": [
        "the goodness of fit for these models is also a potential feature"
      ]
    },
    {
      "cell_type": "markdown",
      "source": [
        "Data Organization: you can put all your features in a dataframe using merge at each step merging each new feature with the olde ones\n"
      ],
      "metadata": {
        "id": "H38lgih9lVYo"
      }
    },
    {
      "cell_type": "code",
      "metadata": {
        "colab": {
          "base_uri": "https://localhost:8080/",
          "height": 233
        },
        "id": "9WD4YyRabV69",
        "outputId": "bac246e5-c84a-40d3-a5bc-24f05ebc1721"
      },
      "source": [
        "#example\n",
        "features = features.merge(....., left_index=True, right_index=True)\n",
        "features.head()"
      ],
      "execution_count": null,
      "outputs": [
        {
          "output_type": "execute_result",
          "data": {
            "text/html": [
              "<div>\n",
              "<style scoped>\n",
              "    .dataframe tbody tr th:only-of-type {\n",
              "        vertical-align: middle;\n",
              "    }\n",
              "\n",
              "    .dataframe tbody tr th {\n",
              "        vertical-align: top;\n",
              "    }\n",
              "\n",
              "    .dataframe thead th {\n",
              "        text-align: right;\n",
              "    }\n",
              "</style>\n",
              "<table border=\"1\" class=\"dataframe\">\n",
              "  <thead>\n",
              "    <tr style=\"text-align: right;\">\n",
              "      <th></th>\n",
              "      <th></th>\n",
              "      <th>means</th>\n",
              "      <th>std</th>\n",
              "      <th>s</th>\n",
              "      <th>maxs</th>\n",
              "      <th>mins</th>\n",
              "      <th>medians</th>\n",
              "      <th>slope</th>\n",
              "      <th>intercept</th>\n",
              "      <th>a</th>\n",
              "    </tr>\n",
              "    <tr>\n",
              "      <th>object_id</th>\n",
              "      <th>passband</th>\n",
              "      <th></th>\n",
              "      <th></th>\n",
              "      <th></th>\n",
              "      <th></th>\n",
              "      <th></th>\n",
              "      <th></th>\n",
              "      <th></th>\n",
              "      <th></th>\n",
              "      <th></th>\n",
              "    </tr>\n",
              "  </thead>\n",
              "  <tbody>\n",
              "    <tr>\n",
              "      <th rowspan=\"5\" valign=\"top\">615</th>\n",
              "      <th>0</th>\n",
              "      <td>-3.254554</td>\n",
              "      <td>83.944735</td>\n",
              "      <td>0.125827</td>\n",
              "      <td>125.182808</td>\n",
              "      <td>-116.913223</td>\n",
              "      <td>-0.081180</td>\n",
              "      <td>0.000528</td>\n",
              "      <td>-31.821927</td>\n",
              "      <td>-1.0</td>\n",
              "    </tr>\n",
              "    <tr>\n",
              "      <th>1</th>\n",
              "      <td>-385.699911</td>\n",
              "      <td>601.787302</td>\n",
              "      <td>0.404755</td>\n",
              "      <td>660.626343</td>\n",
              "      <td>-1100.440063</td>\n",
              "      <td>-0.171580</td>\n",
              "      <td>0.000564</td>\n",
              "      <td>-33.921454</td>\n",
              "      <td>-1.0</td>\n",
              "    </tr>\n",
              "    <tr>\n",
              "      <th>2</th>\n",
              "      <td>-134.146566</td>\n",
              "      <td>455.121346</td>\n",
              "      <td>0.331063</td>\n",
              "      <td>611.984558</td>\n",
              "      <td>-681.858887</td>\n",
              "      <td>-0.291545</td>\n",
              "      <td>0.000756</td>\n",
              "      <td>-45.499328</td>\n",
              "      <td>-1.0</td>\n",
              "    </tr>\n",
              "    <tr>\n",
              "      <th>3</th>\n",
              "      <td>-121.103501</td>\n",
              "      <td>335.425053</td>\n",
              "      <td>0.285492</td>\n",
              "      <td>445.737061</td>\n",
              "      <td>-530.644592</td>\n",
              "      <td>-0.123500</td>\n",
              "      <td>0.000916</td>\n",
              "      <td>-55.091286</td>\n",
              "      <td>-1.0</td>\n",
              "    </tr>\n",
              "    <tr>\n",
              "      <th>4</th>\n",
              "      <td>-55.954592</td>\n",
              "      <td>291.803449</td>\n",
              "      <td>0.194883</td>\n",
              "      <td>381.953735</td>\n",
              "      <td>-422.184509</td>\n",
              "      <td>-0.164500</td>\n",
              "      <td>0.001046</td>\n",
              "      <td>-62.942751</td>\n",
              "      <td>-1.0</td>\n",
              "    </tr>\n",
              "  </tbody>\n",
              "</table>\n",
              "</div>"
            ],
            "text/plain": [
              "                         means         std         s  ...     slope  intercept    a\n",
              "object_id passband                                    ...                          \n",
              "615       0          -3.254554   83.944735  0.125827  ...  0.000528 -31.821927 -1.0\n",
              "          1        -385.699911  601.787302  0.404755  ...  0.000564 -33.921454 -1.0\n",
              "          2        -134.146566  455.121346  0.331063  ...  0.000756 -45.499328 -1.0\n",
              "          3        -121.103501  335.425053  0.285492  ...  0.000916 -55.091286 -1.0\n",
              "          4         -55.954592  291.803449  0.194883  ...  0.001046 -62.942751 -1.0\n",
              "\n",
              "[5 rows x 9 columns]"
            ]
          },
          "metadata": {
            "tags": []
          },
          "execution_count": 37
        }
      ]
    },
    {
      "cell_type": "markdown",
      "metadata": {
        "id": "SaOg1-MZQo11"
      },
      "source": [
        "NOTE: when you merge the metadata features you are going to have to do some gymnastic with the indices: this is because the data has 2 indices columns: the object id and the bandpass id, while the metadata has only 1 index: the object id. \n",
        "\n",
        "You can use the function unstuck - here is an example line of code of what worked for me **but** it kind of depends on how you organized your dataframe so this is not guaranteed to work!"
      ]
    },
    {
      "cell_type": "code",
      "metadata": {
        "ExecuteTime": {
          "end_time": "2020-04-05T15:26:52.274948Z",
          "start_time": "2020-04-05T15:26:52.144078Z"
        },
        "id": "8yuZTwEGlVYp",
        "colab": {
          "base_uri": "https://localhost:8080/"
        },
        "outputId": "98dae9a1-a974-4bf4-d89c-75a8e95bbcca"
      },
      "source": [
        "allfeatures = features.reset_index().set_index(['object_id','passband']).stack(\n",
        "    ).unstack([1,2])\n",
        "allfeatures.shape"
      ],
      "execution_count": null,
      "outputs": [
        {
          "output_type": "execute_result",
          "data": {
            "text/plain": [
              "(7848, 54)"
            ]
          },
          "metadata": {
            "tags": []
          },
          "execution_count": 40
        }
      ]
    },
    {
      "cell_type": "code",
      "metadata": {
        "colab": {
          "base_uri": "https://localhost:8080/",
          "height": 270
        },
        "id": "uUo0O0_5WTIF",
        "outputId": "f60d1cc3-ffa3-4306-dcaf-a1613eb30acf"
      },
      "source": [
        "#EXAMPLE OF A POTENTIAL DATAFRAME OUTPUT\n",
        "allfeatures.head()"
      ],
      "execution_count": null,
      "outputs": [
        {
          "output_type": "execute_result",
          "data": {
            "text/html": [
              "<div>\n",
              "<style scoped>\n",
              "    .dataframe tbody tr th:only-of-type {\n",
              "        vertical-align: middle;\n",
              "    }\n",
              "\n",
              "    .dataframe tbody tr th {\n",
              "        vertical-align: top;\n",
              "    }\n",
              "\n",
              "    .dataframe thead th {\n",
              "        text-align: right;\n",
              "    }\n",
              "</style>\n",
              "<table border=\"1\" class=\"dataframe\">\n",
              "  <thead>\n",
              "    <tr style=\"text-align: right;\">\n",
              "      <th></th>\n",
              "      <th>(0, means)</th>\n",
              "      <th>(0, std)</th>\n",
              "      <th>(0, s)</th>\n",
              "      <th>(0, maxs)</th>\n",
              "      <th>(0, mins)</th>\n",
              "      <th>(0, medians)</th>\n",
              "      <th>(0, slope)</th>\n",
              "      <th>(0, intercept)</th>\n",
              "      <th>(0, a)</th>\n",
              "      <th>(1, means)</th>\n",
              "      <th>(1, std)</th>\n",
              "      <th>(1, s)</th>\n",
              "      <th>(1, maxs)</th>\n",
              "      <th>(1, mins)</th>\n",
              "      <th>(1, medians)</th>\n",
              "      <th>(1, slope)</th>\n",
              "      <th>(1, intercept)</th>\n",
              "      <th>(1, a)</th>\n",
              "      <th>(2, means)</th>\n",
              "      <th>(2, std)</th>\n",
              "      <th>(2, s)</th>\n",
              "      <th>(2, maxs)</th>\n",
              "      <th>(2, mins)</th>\n",
              "      <th>(2, medians)</th>\n",
              "      <th>(2, slope)</th>\n",
              "      <th>(2, intercept)</th>\n",
              "      <th>(2, a)</th>\n",
              "      <th>(3, means)</th>\n",
              "      <th>(3, std)</th>\n",
              "      <th>(3, s)</th>\n",
              "      <th>(3, maxs)</th>\n",
              "      <th>(3, mins)</th>\n",
              "      <th>(3, medians)</th>\n",
              "      <th>(3, slope)</th>\n",
              "      <th>(3, intercept)</th>\n",
              "      <th>(3, a)</th>\n",
              "      <th>(4, means)</th>\n",
              "      <th>(4, std)</th>\n",
              "      <th>(4, s)</th>\n",
              "      <th>(4, maxs)</th>\n",
              "      <th>(4, mins)</th>\n",
              "      <th>(4, medians)</th>\n",
              "      <th>(4, slope)</th>\n",
              "      <th>(4, intercept)</th>\n",
              "      <th>(4, a)</th>\n",
              "      <th>(5, means)</th>\n",
              "      <th>(5, std)</th>\n",
              "      <th>(5, s)</th>\n",
              "      <th>(5, maxs)</th>\n",
              "      <th>(5, mins)</th>\n",
              "      <th>(5, medians)</th>\n",
              "      <th>(5, slope)</th>\n",
              "      <th>(5, intercept)</th>\n",
              "      <th>(5, a)</th>\n",
              "      <th>(decl)</th>\n",
              "      <th>(hostgal_photoz)</th>\n",
              "      <th>(hostgal_photoz_err)</th>\n",
              "      <th>(ddf)</th>\n",
              "      <th>(target)</th>\n",
              "    </tr>\n",
              "    <tr>\n",
              "      <th>object_id</th>\n",
              "      <th></th>\n",
              "      <th></th>\n",
              "      <th></th>\n",
              "      <th></th>\n",
              "      <th></th>\n",
              "      <th></th>\n",
              "      <th></th>\n",
              "      <th></th>\n",
              "      <th></th>\n",
              "      <th></th>\n",
              "      <th></th>\n",
              "      <th></th>\n",
              "      <th></th>\n",
              "      <th></th>\n",
              "      <th></th>\n",
              "      <th></th>\n",
              "      <th></th>\n",
              "      <th></th>\n",
              "      <th></th>\n",
              "      <th></th>\n",
              "      <th></th>\n",
              "      <th></th>\n",
              "      <th></th>\n",
              "      <th></th>\n",
              "      <th></th>\n",
              "      <th></th>\n",
              "      <th></th>\n",
              "      <th></th>\n",
              "      <th></th>\n",
              "      <th></th>\n",
              "      <th></th>\n",
              "      <th></th>\n",
              "      <th></th>\n",
              "      <th></th>\n",
              "      <th></th>\n",
              "      <th></th>\n",
              "      <th></th>\n",
              "      <th></th>\n",
              "      <th></th>\n",
              "      <th></th>\n",
              "      <th></th>\n",
              "      <th></th>\n",
              "      <th></th>\n",
              "      <th></th>\n",
              "      <th></th>\n",
              "      <th></th>\n",
              "      <th></th>\n",
              "      <th></th>\n",
              "      <th></th>\n",
              "      <th></th>\n",
              "      <th></th>\n",
              "      <th></th>\n",
              "      <th></th>\n",
              "      <th></th>\n",
              "      <th></th>\n",
              "      <th></th>\n",
              "      <th></th>\n",
              "      <th></th>\n",
              "      <th></th>\n",
              "    </tr>\n",
              "  </thead>\n",
              "  <tbody>\n",
              "    <tr>\n",
              "      <th>615</th>\n",
              "      <td>-3.254554</td>\n",
              "      <td>83.944735</td>\n",
              "      <td>0.125827</td>\n",
              "      <td>125.182808</td>\n",
              "      <td>-116.913223</td>\n",
              "      <td>-0.081180</td>\n",
              "      <td>0.000528</td>\n",
              "      <td>-31.821927</td>\n",
              "      <td>-1.0</td>\n",
              "      <td>-385.699911</td>\n",
              "      <td>601.787302</td>\n",
              "      <td>0.404755</td>\n",
              "      <td>660.626343</td>\n",
              "      <td>-1100.440063</td>\n",
              "      <td>-0.171580</td>\n",
              "      <td>0.000564</td>\n",
              "      <td>-33.921454</td>\n",
              "      <td>-1.0</td>\n",
              "      <td>-134.146566</td>\n",
              "      <td>455.121346</td>\n",
              "      <td>0.331063</td>\n",
              "      <td>611.984558</td>\n",
              "      <td>-681.858887</td>\n",
              "      <td>-0.291545</td>\n",
              "      <td>0.000756</td>\n",
              "      <td>-45.499328</td>\n",
              "      <td>-1.0</td>\n",
              "      <td>-121.103501</td>\n",
              "      <td>335.425053</td>\n",
              "      <td>0.285492</td>\n",
              "      <td>445.737061</td>\n",
              "      <td>-530.644592</td>\n",
              "      <td>-0.123500</td>\n",
              "      <td>0.000916</td>\n",
              "      <td>-55.091286</td>\n",
              "      <td>-1.0</td>\n",
              "      <td>-55.954592</td>\n",
              "      <td>291.803449</td>\n",
              "      <td>0.194883</td>\n",
              "      <td>381.953735</td>\n",
              "      <td>-422.184509</td>\n",
              "      <td>-0.164500</td>\n",
              "      <td>0.001046</td>\n",
              "      <td>-62.942751</td>\n",
              "      <td>-1.0</td>\n",
              "      <td>-47.449847</td>\n",
              "      <td>294.779522</td>\n",
              "      <td>0.121948</td>\n",
              "      <td>378.188141</td>\n",
              "      <td>-422.815094</td>\n",
              "      <td>-0.130310</td>\n",
              "      <td>0.001012</td>\n",
              "      <td>-60.907274</td>\n",
              "      <td>-1.0</td>\n",
              "      <td>-61.943836</td>\n",
              "      <td>0.0000</td>\n",
              "      <td>0.0000</td>\n",
              "      <td>1</td>\n",
              "      <td>92</td>\n",
              "    </tr>\n",
              "    <tr>\n",
              "      <th>713</th>\n",
              "      <td>-2.720398</td>\n",
              "      <td>7.113509</td>\n",
              "      <td>0.254446</td>\n",
              "      <td>14.509829</td>\n",
              "      <td>-14.735178</td>\n",
              "      <td>-0.053300</td>\n",
              "      <td>-0.002880</td>\n",
              "      <td>173.700723</td>\n",
              "      <td>-1.0</td>\n",
              "      <td>-1.019804</td>\n",
              "      <td>5.712334</td>\n",
              "      <td>-0.085494</td>\n",
              "      <td>9.129021</td>\n",
              "      <td>-11.715749</td>\n",
              "      <td>0.080915</td>\n",
              "      <td>-0.002824</td>\n",
              "      <td>170.138183</td>\n",
              "      <td>-1.0</td>\n",
              "      <td>-0.794238</td>\n",
              "      <td>5.770738</td>\n",
              "      <td>-0.022066</td>\n",
              "      <td>10.529041</td>\n",
              "      <td>-10.067919</td>\n",
              "      <td>0.118250</td>\n",
              "      <td>-0.002861</td>\n",
              "      <td>172.372515</td>\n",
              "      <td>-1.0</td>\n",
              "      <td>-0.986966</td>\n",
              "      <td>6.450413</td>\n",
              "      <td>-0.162664</td>\n",
              "      <td>11.330316</td>\n",
              "      <td>-12.394593</td>\n",
              "      <td>0.142830</td>\n",
              "      <td>-0.002773</td>\n",
              "      <td>167.042501</td>\n",
              "      <td>-1.0</td>\n",
              "      <td>-0.900262</td>\n",
              "      <td>6.406989</td>\n",
              "      <td>-0.062403</td>\n",
              "      <td>9.827934</td>\n",
              "      <td>-12.286801</td>\n",
              "      <td>0.017020</td>\n",
              "      <td>-0.002706</td>\n",
              "      <td>162.993030</td>\n",
              "      <td>-1.0</td>\n",
              "      <td>-1.794175</td>\n",
              "      <td>7.094073</td>\n",
              "      <td>0.212294</td>\n",
              "      <td>14.770886</td>\n",
              "      <td>-14.211164</td>\n",
              "      <td>-0.095135</td>\n",
              "      <td>-0.001996</td>\n",
              "      <td>120.260663</td>\n",
              "      <td>-1.0</td>\n",
              "      <td>-27.784405</td>\n",
              "      <td>1.6267</td>\n",
              "      <td>0.2552</td>\n",
              "      <td>1</td>\n",
              "      <td>88</td>\n",
              "    </tr>\n",
              "    <tr>\n",
              "      <th>730</th>\n",
              "      <td>-0.048080</td>\n",
              "      <td>1.828872</td>\n",
              "      <td>0.349431</td>\n",
              "      <td>5.942166</td>\n",
              "      <td>-3.459960</td>\n",
              "      <td>0.039740</td>\n",
              "      <td>-0.000122</td>\n",
              "      <td>7.340844</td>\n",
              "      <td>-1.0</td>\n",
              "      <td>0.141057</td>\n",
              "      <td>1.807229</td>\n",
              "      <td>0.457635</td>\n",
              "      <td>5.693109</td>\n",
              "      <td>-3.393080</td>\n",
              "      <td>0.016920</td>\n",
              "      <td>0.000341</td>\n",
              "      <td>-20.512857</td>\n",
              "      <td>-1.0</td>\n",
              "      <td>2.400870</td>\n",
              "      <td>5.559483</td>\n",
              "      <td>2.315707</td>\n",
              "      <td>20.994711</td>\n",
              "      <td>-2.848838</td>\n",
              "      <td>-0.346740</td>\n",
              "      <td>0.001740</td>\n",
              "      <td>-104.795617</td>\n",
              "      <td>1.0</td>\n",
              "      <td>3.236164</td>\n",
              "      <td>8.191987</td>\n",
              "      <td>2.584661</td>\n",
              "      <td>33.572102</td>\n",
              "      <td>-5.435799</td>\n",
              "      <td>-0.317495</td>\n",
              "      <td>0.001593</td>\n",
              "      <td>-95.949468</td>\n",
              "      <td>1.0</td>\n",
              "      <td>4.308728</td>\n",
              "      <td>10.710344</td>\n",
              "      <td>2.462542</td>\n",
              "      <td>41.159981</td>\n",
              "      <td>-5.836310</td>\n",
              "      <td>-0.311590</td>\n",
              "      <td>0.001492</td>\n",
              "      <td>-89.850962</td>\n",
              "      <td>1.0</td>\n",
              "      <td>4.539396</td>\n",
              "      <td>13.332758</td>\n",
              "      <td>1.630520</td>\n",
              "      <td>47.310059</td>\n",
              "      <td>-19.159811</td>\n",
              "      <td>-0.151250</td>\n",
              "      <td>0.001271</td>\n",
              "      <td>-76.556533</td>\n",
              "      <td>1.0</td>\n",
              "      <td>-6.579593</td>\n",
              "      <td>0.2262</td>\n",
              "      <td>0.0157</td>\n",
              "      <td>1</td>\n",
              "      <td>42</td>\n",
              "    </tr>\n",
              "    <tr>\n",
              "      <th>745</th>\n",
              "      <td>1.797523</td>\n",
              "      <td>4.374445</td>\n",
              "      <td>1.980815</td>\n",
              "      <td>18.014029</td>\n",
              "      <td>-3.874349</td>\n",
              "      <td>-0.170535</td>\n",
              "      <td>-0.000705</td>\n",
              "      <td>42.447482</td>\n",
              "      <td>-1.0</td>\n",
              "      <td>5.717394</td>\n",
              "      <td>25.964659</td>\n",
              "      <td>6.817994</td>\n",
              "      <td>192.244293</td>\n",
              "      <td>-3.618410</td>\n",
              "      <td>-0.187675</td>\n",
              "      <td>-0.000093</td>\n",
              "      <td>5.595442</td>\n",
              "      <td>-1.0</td>\n",
              "      <td>9.711532</td>\n",
              "      <td>31.957997</td>\n",
              "      <td>5.534683</td>\n",
              "      <td>220.795212</td>\n",
              "      <td>-2.159753</td>\n",
              "      <td>-0.293235</td>\n",
              "      <td>-0.000082</td>\n",
              "      <td>4.922653</td>\n",
              "      <td>-1.0</td>\n",
              "      <td>14.412924</td>\n",
              "      <td>34.967698</td>\n",
              "      <td>3.650356</td>\n",
              "      <td>203.250702</td>\n",
              "      <td>-4.944036</td>\n",
              "      <td>-0.376625</td>\n",
              "      <td>-0.000063</td>\n",
              "      <td>3.790789</td>\n",
              "      <td>-1.0</td>\n",
              "      <td>13.134436</td>\n",
              "      <td>33.069053</td>\n",
              "      <td>3.382600</td>\n",
              "      <td>183.633118</td>\n",
              "      <td>-15.494463</td>\n",
              "      <td>-0.362020</td>\n",
              "      <td>-0.000109</td>\n",
              "      <td>6.553614</td>\n",
              "      <td>-1.0</td>\n",
              "      <td>10.746138</td>\n",
              "      <td>26.060130</td>\n",
              "      <td>3.083716</td>\n",
              "      <td>141.513290</td>\n",
              "      <td>-10.249387</td>\n",
              "      <td>-0.309680</td>\n",
              "      <td>0.000003</td>\n",
              "      <td>-0.160795</td>\n",
              "      <td>-1.0</td>\n",
              "      <td>-45.586655</td>\n",
              "      <td>0.2813</td>\n",
              "      <td>1.1523</td>\n",
              "      <td>1</td>\n",
              "      <td>90</td>\n",
              "    </tr>\n",
              "    <tr>\n",
              "      <th>1124</th>\n",
              "      <td>0.660948</td>\n",
              "      <td>2.360084</td>\n",
              "      <td>-0.324207</td>\n",
              "      <td>5.330927</td>\n",
              "      <td>-6.804703</td>\n",
              "      <td>-0.034140</td>\n",
              "      <td>0.001244</td>\n",
              "      <td>-75.007738</td>\n",
              "      <td>-1.0</td>\n",
              "      <td>4.634637</td>\n",
              "      <td>8.107525</td>\n",
              "      <td>2.315295</td>\n",
              "      <td>37.170177</td>\n",
              "      <td>-2.622109</td>\n",
              "      <td>-0.432985</td>\n",
              "      <td>0.001881</td>\n",
              "      <td>-113.201612</td>\n",
              "      <td>1.0</td>\n",
              "      <td>10.243968</td>\n",
              "      <td>21.319854</td>\n",
              "      <td>2.995322</td>\n",
              "      <td>106.671692</td>\n",
              "      <td>-2.084535</td>\n",
              "      <td>-0.442620</td>\n",
              "      <td>0.001692</td>\n",
              "      <td>-101.788134</td>\n",
              "      <td>1.0</td>\n",
              "      <td>11.086555</td>\n",
              "      <td>26.270649</td>\n",
              "      <td>3.509344</td>\n",
              "      <td>139.818405</td>\n",
              "      <td>-2.800270</td>\n",
              "      <td>-0.386760</td>\n",
              "      <td>0.001465</td>\n",
              "      <td>-88.156649</td>\n",
              "      <td>1.0</td>\n",
              "      <td>9.906102</td>\n",
              "      <td>26.865913</td>\n",
              "      <td>3.802308</td>\n",
              "      <td>143.600189</td>\n",
              "      <td>-16.543753</td>\n",
              "      <td>-0.306425</td>\n",
              "      <td>0.001356</td>\n",
              "      <td>-81.569486</td>\n",
              "      <td>1.0</td>\n",
              "      <td>6.896742</td>\n",
              "      <td>21.434627</td>\n",
              "      <td>3.560347</td>\n",
              "      <td>109.157585</td>\n",
              "      <td>-10.860540</td>\n",
              "      <td>-0.231740</td>\n",
              "      <td>0.001120</td>\n",
              "      <td>-67.426967</td>\n",
              "      <td>1.0</td>\n",
              "      <td>-63.823658</td>\n",
              "      <td>0.2415</td>\n",
              "      <td>0.0176</td>\n",
              "      <td>1</td>\n",
              "      <td>90</td>\n",
              "    </tr>\n",
              "  </tbody>\n",
              "</table>\n",
              "</div>"
            ],
            "text/plain": [
              "           (0, means)   (0, std)  ...  (ddf)  (target)\n",
              "object_id                         ...                 \n",
              "615         -3.254554  83.944735  ...      1        92\n",
              "713         -2.720398   7.113509  ...      1        88\n",
              "730         -0.048080   1.828872  ...      1        42\n",
              "745          1.797523   4.374445  ...      1        90\n",
              "1124         0.660948   2.360084  ...      1        90\n",
              "\n",
              "[5 rows x 59 columns]"
            ]
          },
          "metadata": {
            "tags": []
          },
          "execution_count": 44
        }
      ]
    },
    {
      "cell_type": "markdown",
      "metadata": {
        "id": "lpM3iE2HlVYq"
      },
      "source": [
        "what is the shape of your final feature space?"
      ]
    },
    {
      "cell_type": "code",
      "metadata": {
        "ExecuteTime": {
          "end_time": "2020-04-05T15:52:47.165508Z",
          "start_time": "2020-04-05T15:52:47.162316Z"
        },
        "id": "rwQfgVzLlVYq"
      },
      "source": [
        "print(\"My feature space is {} features (columns)\".format(allfeatures.shape[1]))"
      ],
      "execution_count": null,
      "outputs": []
    },
    {
      "cell_type": "markdown",
      "metadata": {
        "id": "_mBRMYFSSlwm"
      },
      "source": [
        "Now make histograms for allfeatures to show their distributions"
      ]
    },
    {
      "cell_type": "code",
      "metadata": {
        "id": "VT4mitUrj2ft"
      },
      "source": [
        "for i in allfeatures.columns:\n",
        "  pl.figure()\n",
        "  pl.hist(allfeatures[i])\n",
        "  pl.xlabel(i)\n",
        "  pl.ylabel('Frequency')"
      ],
      "execution_count": null,
      "outputs": []
    },
    {
      "cell_type": "markdown",
      "metadata": {
        "id": "EIHmx_fdlVYq"
      },
      "source": [
        "# TASK III : Gaussian Processes"
      ]
    },
    {
      "cell_type": "markdown",
      "source": [
        "Take the time series and fit them with GPs. \n",
        "- use the george package goerge (see class demo https://github.com/fedhere/MLTSA22_FBianco/blob/main/Lab5GP/GP_examples.ipynb)\n",
        "- make sure you use the standardized time series\n",
        "- make sure you process the uncertainty as well as the data in the standardization!\n",
        "- choose an appropriate kernel (e.g. the composite one we use in class that enables periodicity as well as stockastic variations)\n",
        "- take a subset of the time series, ~10, making sure that they are of different types\n",
        "- fit the GP kernerl to each time series band by band\n",
        "- collect the best fit parameters and describe their variance - can all the time series be fit reasonably with the same kernel? how would you initialize the fit for the whole ensamble?\n",
        "\n"
      ],
      "metadata": {
        "id": "HmvhfncYvSjD"
      }
    },
    {
      "cell_type": "markdown",
      "source": [
        "# CHALLENGE (Extra Credit): fit the 2D time series: \n",
        "- create a 2D array for each of the ~10 time series you used earlier: 1 dimension is time the other is wavelength (the bandpass)\n",
        "- fit a 2D kernel to the time series. \n",
        "- show the fits with their uncertainties marginalized along one feature at a time: the fit along the time axis for all 6 bands and the fit along the wavelength axis for a subset of the datapoints.\n",
        "- (try and make a surface plot  that conveys the relevant info effectively, I find it difficult)"
      ],
      "metadata": {
        "id": "RvSu8TAmYjfp"
      }
    },
    {
      "cell_type": "code",
      "source": [
        ""
      ],
      "metadata": {
        "id": "6grL0qluXaI_"
      },
      "execution_count": null,
      "outputs": []
    }
  ]
}